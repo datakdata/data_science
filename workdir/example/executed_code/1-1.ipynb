{
 "cells": [
  {
   "cell_type": "code",
   "execution_count": 1,
   "id": "30d3e17a",
   "metadata": {
    "execution": {
     "iopub.execute_input": "2025-08-01T00:50:43.509481Z",
     "iopub.status.busy": "2025-08-01T00:50:43.509277Z",
     "iopub.status.idle": "2025-08-01T00:50:44.142777Z",
     "shell.execute_reply": "2025-08-01T00:50:44.142252Z"
    }
   },
   "outputs": [
    {
     "name": "stdout",
     "output_type": "stream",
     "text": [
      "附件1 - 乡村的现有耕地数据缺失值检查:\n",
      "地块名称       0\n",
      "地块类型       0\n",
      "地块面积/亩     0\n",
      "说明        53\n",
      "dtype: int64\n",
      "\n",
      "附件1 - 乡村种植的农作物数据缺失值检查:\n",
      "作物编号     0\n",
      "作物名称     0\n",
      "作物类型     0\n",
      "种植耕地    36\n",
      "说明      40\n",
      "dtype: int64\n",
      "\n",
      "附件2 - 2023年的农作物种植情况数据缺失值检查:\n",
      "地块名称      33\n",
      "作物编号       0\n",
      "作物名称       0\n",
      "作物类型       0\n",
      "种植面积/亩     0\n",
      "种植季次       0\n",
      "dtype: int64\n",
      "\n",
      "附件2 - 2023年统计的相关数据缺失值检查:\n",
      "序号            0\n",
      "作物编号          0\n",
      "作物名称          0\n",
      "地块类型          0\n",
      "种植季次          0\n",
      "亩产量/斤         0\n",
      "种植成本/(元/亩)    0\n",
      "销售单价/(元/斤)    0\n",
      "dtype: int64\n",
      "数据已成功读取并保存到当前文件夹。\n"
     ]
    }
   ],
   "source": [
    "import pandas as pd\n",
    "import os\n",
    "\n",
    "# 定义数据路径\n",
    "data_path = \"D:\\\\pythonproject\\\\data_science\\\\excel_files\"\n",
    "\n",
    "# 读取附件1.xlsx的所有工作表\n",
    "file1 = os.path.join(data_path, \"附件1.xlsx\")\n",
    "land_info = pd.read_excel(file1, sheet_name=\"乡村的现有耕地\")\n",
    "crop_info = pd.read_excel(file1, sheet_name=\"乡村种植的农作物\")\n",
    "\n",
    "# 读取附件2.xlsx的所有工作表\n",
    "file2 = os.path.join(data_path, \"附件2.xlsx\")\n",
    "planting_2023 = pd.read_excel(file2, sheet_name=\"2023年的农作物种植情况\")\n",
    "stats_2023 = pd.read_excel(file2, sheet_name=\"2023年统计的相关数据\")\n",
    "\n",
    "# 检查数据完整性、缺失值和异常值\n",
    "print(\"附件1 - 乡村的现有耕地数据缺失值检查:\")\n",
    "print(land_info.isnull().sum())\n",
    "print(\"\\n附件1 - 乡村种植的农作物数据缺失值检查:\")\n",
    "print(crop_info.isnull().sum())\n",
    "print(\"\\n附件2 - 2023年的农作物种植情况数据缺失值检查:\")\n",
    "print(planting_2023.isnull().sum())\n",
    "print(\"\\n附件2 - 2023年统计的相关数据缺失值检查:\")\n",
    "print(stats_2023.isnull().sum())\n",
    "\n",
    "# 保存数据到当前文件夹\n",
    "land_info.to_csv(\"land_info.csv\", index=False)\n",
    "crop_info.to_csv(\"crop_info.csv\", index=False)\n",
    "planting_2023.to_csv(\"planting_2023.csv\", index=False)\n",
    "stats_2023.to_csv(\"stats_2023.csv\", index=False)\n",
    "\n",
    "print(\"数据已成功读取并保存到当前文件夹。\")"
   ]
  }
 ],
 "metadata": {
  "kernelspec": {
   "display_name": "Python 3 (python3)",
   "language": "python",
   "name": "python3"
  },
  "language_info": {
   "codemirror_mode": {
    "name": "ipython",
    "version": 3
   },
   "file_extension": ".py",
   "mimetype": "text/x-python",
   "name": "python",
   "nbconvert_exporter": "python",
   "pygments_lexer": "ipython3",
   "version": "3.13.3"
  }
 },
 "nbformat": 4,
 "nbformat_minor": 5
}
